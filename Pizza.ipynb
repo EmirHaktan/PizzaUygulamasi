{
  "nbformat": 4,
  "nbformat_minor": 0,
  "metadata": {
    "colab": {
      "provenance": []
    },
    "kernelspec": {
      "name": "python3",
      "display_name": "Python 3"
    },
    "language_info": {
      "name": "python"
    }
  },
  "cells": [
    {
      "cell_type": "code",
      "execution_count": 15,
      "metadata": {
        "id": "tgIL8SaTxZXg"
      },
      "outputs": [],
      "source": [
        "from datetime import datetime \n",
        "import csv "
      ]
    },
    {
      "cell_type": "code",
      "source": [
        "class Pizza:\n",
        "    \n",
        "    def menu(): \n",
        "      with open(\"Menu.txt\", \"r\") as dosya:\n",
        "        icerik = dosya.read()\n",
        "        print(icerik)\n",
        "    \n",
        "    \n",
        "    def __init__(self, hamur, malzemeler, taban):\n",
        "        self.hamur = hamur\n",
        "        self.malzemeler = malzemeler\n",
        "        self.taban=taban   \n",
        "\n",
        "    def fiyat_hesapla(self):\n",
        "        if self.taban==\"margarita\":\n",
        "          fiyat=80\n",
        "        elif self.taban==\"vejetaryen pizza\":\n",
        "          fiyat=90\n",
        "        elif self.taban==\"bol etli pizza\": \n",
        "          fiyat=130\n",
        "        elif self.taban==\"ananaslı pizza\":\n",
        "          fiyat=100\n",
        "        elif self.taban==\"akdeniz pizza\":\n",
        "          fiyat=100\n",
        "        if self.hamur == \"ince\":\n",
        "            fiyat += 4\n",
        "        elif self.hamur == \"kalın\":\n",
        "          fiyat += 6\n",
        "        elif self.hamur==\"orta\": \n",
        "            fiyat+=0\n",
        "        for malzeme in self.malzemeler:\n",
        "            fiyat += 8\n",
        "        print(f\"toplam tutar:{fiyat}TL\")\n",
        "        satinalma_islemi=input(\"satın alma işlemini onaylıyorsanız lütfen (evet) yazınız. İptal etmek için herhangi bir şey yazabilirsiniz.\\n\")\n",
        "        if satinalma_islemi==\"evet\":\n",
        "          isim=input(\"lütfen isminizi giriniz\")\n",
        "          kredi=input(\"lütfen kredi kartı bilgilerinizi giriniz\")\n",
        "          anlik=datetime.now()\n",
        "          tarih=datetime.ctime(anlik)\n",
        "          print(f\"\"\" Sayın {isim}, satın alma işlemi başarıyla gerçekleşmiştir. Afiyet olsun!        Kartınızdan çekilen ücret: {fiyat}TL           Satın alma tarihiniz: {tarih}\"\"\")\n",
        "          with open(\"siparis_listesi.txt\", \"a\") as f:\n",
        "            f.write(f\"\"\" \\n İsim: {isim} Ücret: {fiyat}TL Tarih: {tarih}\"\"\")\n",
        "\n",
        "\n",
        "        else:\n",
        "          print(\"Siparişin iptali gerçekleştirilmiştir. Kartınızdan herhangi bir ücret çekilmemiştir.\")\n",
        "              \n",
        "      \n",
        "    \n",
        "    \n",
        "      \n",
        "        \n",
        "            \n",
        "\n"
      ],
      "metadata": {
        "id": "DbRo45KnyKtE"
      },
      "execution_count": 16,
      "outputs": []
    },
    {
      "cell_type": "code",
      "source": [
        "def bilgi(bilgi_taban):\n",
        "      if bilgi_taban==\"margarita\":\n",
        "        print(\"\"\"\n",
        "        Margarita pizza İtalya'nın vazgeçilmez bir Napoli pizzasıdır. \n",
        "              İçerisinde: Domates, mozarella, fesleğen, zeytinyağı içermektedir.\n",
        "              Pizza et ürünü içermediğinden dolayı vejetaryen insanlar tarafından da tüketilebilir.\"\"\")\n",
        "      elif bilgi_taban==\"vejetaryen pizza\": \n",
        "        print(\"\"\"\n",
        "        Vejetaryen pizza vejetaryen insanlar tarafından sıklıkla tüketilen, sebze ağırlıklı bir pizzadır.\n",
        "                  İçindekiler: domates,mozarella,biber,zeytin,mısır,mantar\"\"\")\n",
        "      elif bilgi_taban==\"bol etli pizza\": \n",
        "        print(\"\"\"\n",
        "        Bol etli pizza etseverlerin vazgeçilmez pizzasıdır.\n",
        "                İçindekiler: sucuk,sosis,füme et, salam, biber, mısır\"\"\")\n",
        "      elif bilgi_taban==\"ananaslı pizza\": \n",
        "        print(\"\"\"\n",
        "        Ananaslı pizza farklı lezzet arayışlarında olan insanların vazgeçilmez tercihidir\n",
        "               İçindekiler:ananas,mozarella, hindi füme, domates, fesleğen\"\"\")\n",
        "      elif bilgi_taban==\"akdeniz pizza\": \n",
        "        print(\"\"\"\n",
        "        Akdeniz'in mutfağından esinlenen, popüler bir pizzadır. Hafifliği ve aromatik tatlarıyla pizzaseverlerin favorisidir\n",
        "              İçindekiler: beyaz peynir, zeytin, fesleğen, nane, domates, zeytinyağı, kekik\"\"\")\n"
      ],
      "metadata": {
        "id": "UUHFTK4Hytnq"
      },
      "execution_count": 17,
      "outputs": []
    },
    {
      "cell_type": "code",
      "source": [
        "while True:\n",
        "  islem=input(\"\"\"\n",
        "  \n",
        "  Merhaba, pizza siparişi uygulamasına hoşgeldiniz sayın müşterimiz. Yapmak istediğiniz işlemin rakamını size verilen kutucuğa giriniz.\n",
        "      \n",
        "        1-)Menuyü gör \n",
        "        2-)Pizza tabanı hakkında bilgi al \n",
        "        3-)Sipariş ver\n",
        "        4-)Çıkış yap \n",
        "        \"\"\")\n",
        "  if int(islem)==1:\n",
        "    print(Pizza.menu())\n",
        "    print(\"\"\"              Menu yukarıdaki tabloda gözükmektedir.\n",
        "    ********************************************************************\"\"\")\n",
        "  elif int(islem)==3:\n",
        "    taban=input(\"\"\"   Merhabalar, sipariş verme menüsüne hoşgeldiniz. Bir pizza tabanı seçerek siparişe başlayabilirsiniz. \n",
        "    Lütfen menüdeki isimleri aynı olacak şekilde, bütün harfleri küçük olacak şekilde yapmış olduğunuz seçimi kutucuğa yazınız örnek:(margarita, vejetaryen pizza).\n",
        "    \"\"\")\n",
        "    sayma=0\n",
        "    malzemeler=[]\n",
        "    while sayma<6:\n",
        "      \n",
        "      secilen_malzemeler=input(\"\"\"Lütfen pizzanız için ekstra malzeme tercihi yapınız, unutmayın ki seçtiğiniz her ekstra malzemeler pizzaya ek 8TL olacak şekilde ücretlendirilecektir. Kaydetmek ve çıkmak için (kaydet) yazınız:\"\"\")\n",
        "      if secilen_malzemeler==\"kaydet\":\n",
        "        hamur=input(\"lütfen hamur kalınlığını seçiniz. İnce hamur ekstra 4TL, kalın hamur ise ekstradan 6TL olarak ücretlendirilecektir.(ince/kalın/orta)\")\n",
        "        pizza1=Pizza(hamur,malzemeler,taban)\n",
        "        pizza1.fiyat_hesapla() \n",
        "        break\n",
        "      else:\n",
        "        malzemeler.append(secilen_malzemeler)\n",
        "        print(f\"seçilen {secilen_malzemeler} başarıyla eklendi. Güncel listenizde {malzemeler} ürünleri bulunmaktadır.\")\n",
        "  elif int(islem)==2:\n",
        "    bilgi_taban=input(\"Hangi pizza tabanı hakkında bilgi almak istiyorsanız lütfen menüdeki ismine göre pizza tabanının ismini yazınız.Lütfen küçük harf kullanınız.\")\n",
        "    bilgi(bilgi_taban)\n",
        "  elif int(islem)==4:\n",
        "    print(\"Sistemden çıkış yapılmıştır. İyi günler dileriz.\")\n",
        "    break\n",
        "  else:print(\"lütfen uygun bir rakam giriniz\")"
      ],
      "metadata": {
        "id": "_yVzyLjkO5mH"
      },
      "execution_count": null,
      "outputs": []
    },
    {
      "cell_type": "code",
      "source": [],
      "metadata": {
        "id": "XTWjEWJAy1S-"
      },
      "execution_count": null,
      "outputs": []
    },
    {
      "cell_type": "code",
      "source": [
        "\n"
      ],
      "metadata": {
        "id": "jndVvTSvPAU8"
      },
      "execution_count": null,
      "outputs": []
    },
    {
      "cell_type": "code",
      "source": [],
      "metadata": {
        "id": "TdpbQDt35yEd"
      },
      "execution_count": null,
      "outputs": []
    }
  ]
}